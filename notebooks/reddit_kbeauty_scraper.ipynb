{
 "cells": [
  {
   "cell_type": "code",
   "execution_count": 4,
   "id": "d9379321-45d7-4e52-9f3d-06302abd8a02",
   "metadata": {},
   "outputs": [],
   "source": [
    "import praw\n",
    "import pandas as pd\n",
    "from datetime import datetime\n",
    "import sys\n",
    "import os\n",
    "import time\n",
    "from prawcore.exceptions import TooManyRequests, RequestException\n"
   ]
  },
  {
   "cell_type": "code",
   "execution_count": 19,
   "id": "337d97a7-4ed5-40ba-961c-e580b95140ed",
   "metadata": {},
   "outputs": [
    {
     "data": {
      "text/plain": [
       "True"
      ]
     },
     "execution_count": 19,
     "metadata": {},
     "output_type": "execute_result"
    }
   ],
   "source": [
    "from dotenv import load_dotenv\n",
    "load_dotenv('../.env')"
   ]
  },
  {
   "cell_type": "code",
   "execution_count": 21,
   "id": "a0f58070-ca96-4d3d-85ec-b100b253e309",
   "metadata": {},
   "outputs": [],
   "source": [
    "# Get environment variables\n",
    "REDDIT_CLIENT_ID = os.getenv('REDDIT_CLIENT_ID')\n",
    "REDDIT_CLIENT_SECRET = os.getenv('REDDIT_CLIENT_SECRET')\n",
    "REDDIT_USER_AGENT = os.getenv('REDDIT_USER_AGENT')"
   ]
  },
  {
   "cell_type": "code",
   "execution_count": 5,
   "id": "6aae1b6b-8438-4e16-9e78-7fc6fd13bbed",
   "metadata": {},
   "outputs": [],
   "source": [
    "def initialize_reddit():\n",
    "    return praw.Reddit(\n",
    "        client_id=REDDIT_CLIENT_ID,\n",
    "        client_secret=REDDIT_CLIENT_SECRET,\n",
    "        user_agent=REDDIT_USER_AGENT\n",
    "    )"
   ]
  },
  {
   "cell_type": "code",
   "execution_count": 6,
   "id": "ec54088c-d30c-4cf4-9d76-058ae986fb28",
   "metadata": {},
   "outputs": [],
   "source": [
    "def scrape_subreddit(SUBREDDIT, TIME_PERIOD, limit=1000):\n",
    "    \"\"\"\n",
    "    Scrapes posts from a specified subreddit with rate limiting and error handling.\n",
    "    \"\"\"\n",
    "    reddit = initialize_reddit()\n",
    "    subreddit = reddit.subreddit(SUBREDDIT)\n",
    "    \n",
    "    posts_data = []\n",
    "    \n",
    "    try:\n",
    "        # Get posts with rate limiting\n",
    "        for post in subreddit.top(time_filter=TIME_PERIOD, limit=limit):\n",
    "            try:\n",
    "                # Add delay between requests\n",
    "                time.sleep(.5)  # 2 second delay between posts\n",
    "                \n",
    "                # Get comments with error handling\n",
    "                comments = []\n",
    "                try:\n",
    "                    post.comments.replace_more(limit=None)\n",
    "                    for comment in post.comments.list():\n",
    "                        comments.append({\n",
    "                            'comment_id': comment.id,\n",
    "                            'post_id': post.id,\n",
    "                            'body': comment.body,\n",
    "                            'score': comment.score,\n",
    "                            'created_utc': datetime.fromtimestamp(comment.created_utc),\n",
    "                            'author': str(comment.author)\n",
    "                        })\n",
    "                except Exception as e:\n",
    "                    print(f\"Error getting comments for post {post.id}: {str(e)}\")\n",
    "                \n",
    "                # Store post data\n",
    "                posts_data.append({\n",
    "                    'id': post.id,\n",
    "                    'title': post.title,\n",
    "                    'body': post.selftext,\n",
    "                    'score': post.score,\n",
    "                    'created_utc': datetime.fromtimestamp(post.created_utc),\n",
    "                    'num_comments': post.num_comments,\n",
    "                    'comments': comments\n",
    "                })\n",
    "                \n",
    "                print(f\"Processed post {len(posts_data)}: {post.id}\")\n",
    "                \n",
    "            except TooManyRequests:\n",
    "                print(\"Hit rate limit, waiting 60 seconds...\")\n",
    "                time.sleep(60)\n",
    "                continue\n",
    "            except Exception as e:\n",
    "                print(f\"Error processing post: {str(e)}\")\n",
    "                continue\n",
    "                \n",
    "    except RequestException as e:\n",
    "        print(f\"Network error: {str(e)}\")\n",
    "        print(\"Please check your internet connection and try again.\")\n",
    "        if posts_data:  # If we have some data, save it\n",
    "            print(\"Saving partial data...\")\n",
    "        else:\n",
    "            return pd.DataFrame(), pd.DataFrame()\n",
    "    \n",
    "    # Create separate DataFrames for posts and comments\n",
    "    posts_df = pd.DataFrame([{k: v for k, v in post.items() if k != 'comments'} \n",
    "                           for post in posts_data])\n",
    "    \n",
    "    # Flatten comments into their own DataFrame\n",
    "    comments_df = pd.DataFrame([\n",
    "        comment\n",
    "        for post in posts_data\n",
    "        for comment in post['comments']\n",
    "    ])\n",
    "    \n",
    "    return posts_df, comments_df"
   ]
  },
  {
   "cell_type": "code",
   "execution_count": 23,
   "id": "e15c0926-84fa-4878-aa67-ed4c43e7f32a",
   "metadata": {},
   "outputs": [
    {
     "name": "stdout",
     "output_type": "stream",
     "text": [
      "Processed post 1: 1eit3j7\n",
      "Processed post 2: 1emnbk1\n",
      "Processed post 3: 1f1i3wd\n",
      "Processed post 4: 1edz5c0\n",
      "Processed post 5: 1f45ijs\n",
      "Processed post 6: 1dg6qo5\n",
      "Processed post 7: 1dxrs5x\n",
      "Processed post 8: 1f6tsy0\n",
      "Processed post 9: 1ffzqpf\n",
      "Processed post 10: 1dy1ktr\n"
     ]
    },
    {
     "data": {
      "text/plain": [
       "(        id                                              title  \\\n",
       " 0  1eit3j7                                   Life is not fair   \n",
       " 1  1emnbk1              Tsubaki hair mask 1yr before & after    \n",
       " 2  1f1i3wd                                       Jelly nails?   \n",
       " 3  1edz5c0                                   My Costco today…   \n",
       " 4  1f45ijs   Romand New Lip Product: Sheer Jelly Tinted Stick   \n",
       " 5  1dg6qo5                   my entire AB lippie collection 💗   \n",
       " 6  1dxrs5x  Just fyi, the beauty of joseon sunscreen stick...   \n",
       " 7  1f6tsy0  Randomly came across this store Teso Life in m...   \n",
       " 8  1ffzqpf                                 guilty as charged…   \n",
       " 9  1dy1ktr                      Received items I didn’t order   \n",
       " \n",
       "                                                 body  score  \\\n",
       " 0                                                      6622   \n",
       " 1  Unfortunately two embarrassing photos of me is...   4313   \n",
       " 2  Is there any asian nail polish brands that cou...   2573   \n",
       " 3  The Mediheal toner pads are gone, but there wa...   2107   \n",
       " 4  It’s described as a combination between a tint...   2029   \n",
       " 5                                                      2008   \n",
       " 6                                                      1979   \n",
       " 7  I live in Atlanta, GA (USA) and I'm so glad I ...   1870   \n",
       " 8                                 guilty as charged    1662   \n",
       " 9  Hi all, did anyone else have an experience wit...   1651   \n",
       " \n",
       "           created_utc  num_comments  \n",
       " 0 2024-08-03 13:12:52            98  \n",
       " 1 2024-08-08 07:03:22           389  \n",
       " 2 2024-08-26 17:13:54           111  \n",
       " 3 2024-07-28 14:25:35           172  \n",
       " 4 2024-08-30 01:37:11           166  \n",
       " 5 2024-06-15 11:31:19           146  \n",
       " 6 2024-07-08 07:41:12            65  \n",
       " 7 2024-09-02 10:41:50           137  \n",
       " 8 2024-09-14 03:00:40            56  \n",
       " 9 2024-07-08 16:02:06           192  ,\n",
       "      comment_id  post_id                                               body  \\\n",
       " 0       lg90q0v  1eit3j7  my husband just splashes his face with water, ...   \n",
       " 1       lg98u7g  1eit3j7  My mom is exactly like this. She has amazing s...   \n",
       " 2       lg92lzb  1eit3j7  This is my favorite meme of this now, it's so ...   \n",
       " 3       lg94xmj  1eit3j7  My skin is much better with a much simpler rou...   \n",
       " 4       lg9fqls  1eit3j7  I know people will say \"just do minimal like h...   \n",
       " ...         ...      ...                                                ...   \n",
       " 1509    lcb759w  1dy1ktr  It looks like they only do 1 deal at a time ev...   \n",
       " 1510    lc7citp  1dy1ktr                                    They have both.   \n",
       " 1511    lc72k1i  1dy1ktr  it’s given out at random! some of my friends/m...   \n",
       " 1512    lcc7d3b  1dy1ktr                                              ofc!!   \n",
       " 1513    lcaevqv  1dy1ktr                                               Yup!   \n",
       " \n",
       "       score         created_utc               author  \n",
       " 0       752 2024-08-03 13:51:51             grayfilm  \n",
       " 1       177 2024-08-03 15:01:05  Princess_Carolyn_II  \n",
       " 2       224 2024-08-03 14:07:07       Fex_of_enadine  \n",
       " 3        89 2024-08-03 14:26:29          boomdaniron  \n",
       " 4       127 2024-08-03 16:08:06                 None  \n",
       " ...     ...                 ...                  ...  \n",
       " 1509      2 2024-07-09 15:39:34   sixthmontheleventh  \n",
       " 1510      3 2024-07-09 01:23:08   ImaginaryQuiet5624  \n",
       " 1511     11 2024-07-09 00:26:10  ProgrammerBroad9669  \n",
       " 1512      1 2024-07-09 22:02:42            hannnyhhh  \n",
       " 1513      5 2024-07-09 11:58:13  CocaColaZeroEnjoyer  \n",
       " \n",
       " [1514 rows x 6 columns])"
      ]
     },
     "execution_count": 23,
     "metadata": {},
     "output_type": "execute_result"
    }
   ],
   "source": [
    "scrape_subreddit('asianbeauty', 'year', 10)"
   ]
  }
 ],
 "metadata": {
  "kernelspec": {
   "display_name": "Python 3 (ipykernel)",
   "language": "python",
   "name": "python3"
  },
  "language_info": {
   "codemirror_mode": {
    "name": "ipython",
    "version": 3
   },
   "file_extension": ".py",
   "mimetype": "text/x-python",
   "name": "python",
   "nbconvert_exporter": "python",
   "pygments_lexer": "ipython3",
   "version": "3.13.2"
  }
 },
 "nbformat": 4,
 "nbformat_minor": 5
}
